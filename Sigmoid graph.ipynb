{
 "cells": [
  {
   "cell_type": "markdown",
   "metadata": {},
   "source": [
    "# Sigmoid function (logistic) Graph"
   ]
  },
  {
   "cell_type": "markdown",
   "metadata": {},
   "source": [
    "Import libraries and create sigmoid/logisitc function from scratch. "
   ]
  },
  {
   "cell_type": "code",
   "execution_count": 74,
   "metadata": {
    "collapsed": true
   },
   "outputs": [],
   "source": [
    "import matplotlib.pyplot as plt\n",
    "from math import exp\n",
    "\n",
    "# This is the Sigmoid (logisitic) function from scratch\n",
    "# you can also compute this using built in python\n",
    "# functions. Example below.\n",
    "# from scipy.stats import logistic\n",
    "# print(logistic.cdf(0.458))\n",
    "def LogisticFromScratch(x):\n",
    "    if x >= 0:\n",
    "        z = exp(-x)\n",
    "        return 1 / (1 + z)\n",
    "    else:\n",
    "        z = exp(x)\n",
    "        return z / (1 + z)\n"
   ]
  },
  {
   "cell_type": "markdown",
   "metadata": {},
   "source": [
    "Compute x/y values for the sigmoid and graph"
   ]
  },
  {
   "cell_type": "code",
   "execution_count": 75,
   "metadata": {},
   "outputs": [
    {
     "data": {
      "image/png": "[encoded data removed]",
      "text/plain": [
       "<matplotlib.figure.Figure at 0x11082f828>"
      ]
     },
     "metadata": {},
     "output_type": "display_data"
    }
   ],
   "source": [
    "x_values = [x / 10.0 for x in range(-60, 60, 5)]\n",
    "y_values = []\n",
    "\n",
    "x_linear =[ -1.5, 1.5]\n",
    "y_linear = [0, 1]\n",
    "for num in x_values:\n",
    "    y_values.append(sigmoidFromScratch(num))\n",
    "    \n",
    "\n",
    "fig = plt.figure()\n",
    "ax = plt.subplot(111)\n",
    "ax.plot(x_values, y_values, label='Logistic', color='r', linestyle='-')\n",
    "ax.plot(x_linear, y_linear, label='Slope', color='b', linestyle='--')\n",
    "plt.title('Sigmoid Function')\n",
    "ax.legend()\n",
    "plt.show()"
   ]
  },
  {
   "cell_type": "markdown",
   "metadata": {},
   "source": [
    "Using scipy library for the Sigmoid function in the comments below. "
   ]
  },
  {
   "cell_type": "code",
   "execution_count": 79,
   "metadata": {},
   "outputs": [
    {
     "name": "stdout",
     "output_type": "stream",
     "text": [
      "0.0024726231566  =  0.0024726231566 True\n",
      "0.0040701377159  =  0.0040701377159 True\n",
      "0.0066928509243  =  0.0066928509243 True\n",
      "0.0109869426306  =  0.0109869426306 True\n",
      "0.0179862099621  =  0.0179862099621 True\n",
      "0.0293122307514  =  0.0293122307514 True\n",
      "0.0474258731776  =  0.0474258731776 True\n",
      "0.0758581800212  =  0.0758581800212 True\n",
      "0.119202922022  =  0.1192029220221 True\n",
      "0.182425523806  =  0.1824255238064 True\n",
      "0.26894142137  =  0.26894142137 True\n",
      "0.377540668798  =  0.3775406687981 True\n",
      "0.5  =  0.5 True\n",
      "0.622459331202  =  0.6224593312019 True\n",
      "0.73105857863  =  0.73105857863 True\n",
      "0.817574476194  =  0.8175744761936 True\n",
      "0.880797077978  =  0.8807970779779 True\n",
      "0.924141819979  =  0.9241418199788 True\n",
      "0.952574126822  =  0.9525741268224 True\n",
      "0.970687769249  =  0.9706877692486 True\n",
      "0.982013790038  =  0.9820137900379 True\n",
      "0.989013057369  =  0.9890130573694 True\n",
      "0.993307149076  =  0.9933071490757 True\n",
      "0.995929862284  =  0.9959298622841 True\n"
     ]
    }
   ],
   "source": [
    "# Compate the from 'scratch' logisitc function with precision 13\n",
    "for num in x_values:\n",
    "    print(round(logistic.cdf(num), 13), ' = ', round(LogisticFromScratch(num), 13), round(logistic.cdf(num), 13) == round(LogisticFromScratch(num), 13))"
   ]
  },
  {
   "cell_type": "code",
   "execution_count": null,
   "metadata": {
    "collapsed": true
   },
   "outputs": [],
   "source": []
  }
 ],
 "metadata": {
  "kernelspec": {
   "display_name": "Python [conda env:scipy]",
   "language": "python",
   "name": "conda-env-scipy-py"
  },
  "language_info": {
   "codemirror_mode": {
    "name": "ipython",
    "version": 3
   },
   "file_extension": ".py",
   "mimetype": "text/x-python",
   "name": "python",
   "nbconvert_exporter": "python",
   "pygments_lexer": "ipython3",
   "version": "3.5.2"
  }
 },
 "nbformat": 4,
 "nbformat_minor": 2
}
